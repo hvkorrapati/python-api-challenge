{
 "cells": [
  {
   "cell_type": "markdown",
   "metadata": {},
   "source": [
    "# WeatherPy\n",
    "----\n",
    "\n",
    "#### Note\n",
    "* Instructions have been included for each segment. You do not have to follow them exactly, but they are included to help you think through the steps.\n",
    "\n",
    "#### Analyis\n",
    "Observed Trends\n",
    "1.  \n",
    "2.  \n",
    "3.  "
   ]
  },
  {
   "cell_type": "code",
   "execution_count": 1,
   "metadata": {
    "scrolled": true
   },
   "outputs": [],
   "source": [
    "# Dependencies and Setup\n",
    "import matplotlib.pyplot as plt\n",
    "import pandas as pd\n",
    "import numpy as np\n",
    "import requests\n",
    "import time\n",
    "from scipy.stats import linregress\n",
    "\n",
    "# Import API key\n",
    "from api_keys import weather_api_key\n",
    "\n",
    "# Incorporated citipy to determine city based on latitude and longitude\n",
    "from citipy import citipy\n",
    "\n",
    "# Output File (CSV)\n",
    "output_data_file = \"output_data/cities.csv\"\n",
    "\n",
    "# Range of latitudes and longitudes\n",
    "lat_range = (-90, 90)\n",
    "lng_range = (-180, 180)"
   ]
  },
  {
   "cell_type": "markdown",
   "metadata": {},
   "source": [
    "## Generate Cities List"
   ]
  },
  {
   "cell_type": "code",
   "execution_count": 2,
   "metadata": {},
   "outputs": [
    {
     "data": {
      "text/plain": [
       "637"
      ]
     },
     "execution_count": 2,
     "metadata": {},
     "output_type": "execute_result"
    }
   ],
   "source": [
    "# List for holding lat_lngs and cities\n",
    "lat_lngs = []\n",
    "cities = []\n",
    "\n",
    "# Create a set of random lat and lng combinations\n",
    "lats = np.random.uniform(lat_range[0], lat_range[1], size=1500)\n",
    "lngs = np.random.uniform(lng_range[0], lng_range[1], size=1500)\n",
    "lat_lngs = zip(lats, lngs)\n",
    "\n",
    "# Identify nearest city for each lat, lng combination\n",
    "for lat_lng in lat_lngs:\n",
    "    city = citipy.nearest_city(lat_lng[0], lat_lng[1]).city_name\n",
    "    \n",
    "    # If the city is unique, then add it to a our cities list\n",
    "    if city not in cities:\n",
    "        cities.append(city)\n",
    "\n",
    "# Print the city count to confirm sufficient count\n",
    "len(cities)"
   ]
  },
  {
   "cell_type": "markdown",
   "metadata": {},
   "source": [
    "### Perform API Calls\n",
    "* Perform a weather check on each city using a series of successive API calls.\n",
    "* Include a print log of each city as it'sbeing processed (with the city number and city name).\n"
   ]
  },
  {
   "cell_type": "code",
   "execution_count": 12,
   "metadata": {
    "scrolled": true
   },
   "outputs": [
    {
     "name": "stdout",
     "output_type": "stream",
     "text": [
      "Beginning Data Retrieval\n",
      "-------------------------\n",
      "Processing Record 1 of Set 1 | akureyri\n",
      "City not found. Skipping...\n",
      "Processing Record 2 of Set 1 | cidreira\n",
      "Processing Record 3 of Set 1 | atuona\n",
      "Processing Record 4 of Set 1 | vostok\n",
      "Processing Record 5 of Set 1 | nuuk\n",
      "Processing Record 6 of Set 1 | hobart\n",
      "Processing Record 7 of Set 1 | albany\n",
      "Processing Record 8 of Set 1 | castro\n",
      "Processing Record 9 of Set 1 | kodiak\n",
      "Processing Record 10 of Set 1 | tateyama\n",
      "Processing Record 11 of Set 1 | severo-kurilsk\n",
      "Processing Record 12 of Set 1 | hilo\n",
      "City not found. Skipping...\n",
      "Processing Record 13 of Set 1 | tuktoyaktuk\n",
      "Processing Record 14 of Set 1 | ancud\n",
      "Processing Record 15 of Set 1 | busselton\n",
      "Processing Record 16 of Set 1 | big bend\n",
      "Processing Record 17 of Set 1 | bluff\n",
      "Processing Record 18 of Set 1 | mar del plata\n",
      "Processing Record 19 of Set 1 | yulara\n",
      "Processing Record 20 of Set 1 | rikitea\n",
      "Processing Record 21 of Set 1 | kysyl-syr\n",
      "Processing Record 22 of Set 1 | katsuura\n",
      "Processing Record 23 of Set 1 | turukhansk\n",
      "Processing Record 24 of Set 1 | kamyshin\n",
      "Processing Record 25 of Set 1 | kasempa\n",
      "Processing Record 26 of Set 1 | perth\n",
      "Processing Record 27 of Set 1 | okhotsk\n",
      "Processing Record 28 of Set 1 | ushuaia\n",
      "Processing Record 29 of Set 1 | longyearbyen\n",
      "Processing Record 30 of Set 1 | muros\n",
      "Processing Record 31 of Set 1 | havelock\n",
      "Processing Record 32 of Set 1 | tasiilaq\n",
      "Processing Record 33 of Set 1 | aklavik\n",
      "Processing Record 34 of Set 1 | sioux lookout\n",
      "Processing Record 35 of Set 1 | luzhou\n",
      "City not found. Skipping...\n",
      "Processing Record 36 of Set 1 | takoradi\n",
      "Processing Record 37 of Set 1 | kibaya\n",
      "Processing Record 38 of Set 1 | souillac\n",
      "Processing Record 39 of Set 1 | bredasdorp\n",
      "Processing Record 40 of Set 1 | komsomolskiy\n",
      "Processing Record 41 of Set 1 | pangnirtung\n",
      "Processing Record 42 of Set 1 | saint anthony\n",
      "Processing Record 43 of Set 1 | namibe\n",
      "Processing Record 44 of Set 1 | chokurdakh\n",
      "City not found. Skipping...\n",
      "Processing Record 45 of Set 1 | sao filipe\n",
      "Processing Record 46 of Set 1 | puerto ayora\n",
      "Processing Record 47 of Set 1 | bagumbong\n",
      "Processing Record 48 of Set 1 | pisco\n",
      "Processing Record 49 of Set 1 | port alfred\n",
      "Processing Record 50 of Set 1 | veraval\n",
      "Processing Record 0 of Set 2 | alta floresta\n",
      "City not found. Skipping...\n",
      "City not found. Skipping...\n",
      "Processing Record 1 of Set 2 | kapaa\n",
      "Processing Record 2 of Set 2 | asfi\n",
      "City not found. Skipping...\n",
      "Processing Record 3 of Set 2 | narsaq\n",
      "Processing Record 4 of Set 2 | cape town\n",
      "Processing Record 5 of Set 2 | viedma\n",
      "Processing Record 6 of Set 2 | isangel\n",
      "Processing Record 7 of Set 2 | verkhnevilyuysk\n",
      "Processing Record 8 of Set 2 | vaini\n",
      "Processing Record 9 of Set 2 | popondetta\n",
      "Processing Record 10 of Set 2 | tucuma\n",
      "Processing Record 11 of Set 2 | khandyga\n",
      "Processing Record 12 of Set 2 | gat\n",
      "Processing Record 13 of Set 2 | mayo\n",
      "Processing Record 14 of Set 2 | muyezerskiy\n",
      "Processing Record 15 of Set 2 | shimoda\n",
      "Processing Record 16 of Set 2 | hithadhoo\n",
      "Processing Record 17 of Set 2 | los algarrobos\n",
      "Processing Record 18 of Set 2 | havre-saint-pierre\n",
      "Processing Record 19 of Set 2 | ostrovnoy\n",
      "Processing Record 20 of Set 2 | mataura\n",
      "Processing Record 21 of Set 2 | cross lanes\n",
      "Processing Record 22 of Set 2 | arraial do cabo\n",
      "Processing Record 23 of Set 2 | hamilton\n",
      "Processing Record 24 of Set 2 | constitucion\n",
      "Processing Record 25 of Set 2 | chuy\n",
      "Processing Record 26 of Set 2 | cockburn town\n",
      "Processing Record 27 of Set 2 | puerto madryn\n",
      "Processing Record 28 of Set 2 | touros\n",
      "Processing Record 29 of Set 2 | nanortalik\n",
      "Processing Record 30 of Set 2 | sinop\n",
      "Processing Record 31 of Set 2 | ballina\n",
      "Processing Record 32 of Set 2 | huarmey\n",
      "Processing Record 33 of Set 2 | thompson\n",
      "Processing Record 34 of Set 2 | sola\n",
      "City not found. Skipping...\n",
      "Processing Record 35 of Set 2 | victoria\n",
      "Processing Record 36 of Set 2 | amantea\n",
      "Processing Record 37 of Set 2 | dikson\n",
      "Processing Record 38 of Set 2 | san juan del sur\n",
      "Processing Record 39 of Set 2 | yellowknife\n",
      "Processing Record 40 of Set 2 | hasaki\n",
      "City not found. Skipping...\n",
      "City not found. Skipping...\n",
      "Processing Record 41 of Set 2 | provideniya\n",
      "Processing Record 42 of Set 2 | kungurtug\n",
      "Processing Record 43 of Set 2 | saskylakh\n",
      "Processing Record 44 of Set 2 | leh\n",
      "Processing Record 45 of Set 2 | kotelnich\n",
      "Processing Record 46 of Set 2 | sarvar\n",
      "Processing Record 47 of Set 2 | lesu\n",
      "Processing Record 48 of Set 2 | ribeira grande\n",
      "Processing Record 49 of Set 2 | petropavlovsk-kamchatskiy\n",
      "City not found. Skipping...\n",
      "Processing Record 50 of Set 2 | hami\n",
      "Processing Record 0 of Set 3 | kaitangata\n",
      "Processing Record 1 of Set 3 | parfino\n",
      "Processing Record 2 of Set 3 | punta arenas\n",
      "Processing Record 3 of Set 3 | adrar\n",
      "Processing Record 4 of Set 3 | tessalit\n",
      "Processing Record 5 of Set 3 | carnarvon\n",
      "Processing Record 6 of Set 3 | barrow\n",
      "Processing Record 7 of Set 3 | vuktyl\n",
      "Processing Record 8 of Set 3 | waddan\n",
      "Processing Record 9 of Set 3 | fairbanks\n",
      "Processing Record 10 of Set 3 | yandyki\n",
      "Processing Record 11 of Set 3 | mana\n",
      "Processing Record 12 of Set 3 | esperance\n",
      "Processing Record 13 of Set 3 | hermanus\n",
      "Processing Record 14 of Set 3 | bardiyah\n",
      "Processing Record 15 of Set 3 | kapoeta\n",
      "Processing Record 16 of Set 3 | kot kapura\n",
      "Processing Record 17 of Set 3 | atlantic beach\n",
      "City not found. Skipping...\n",
      "Processing Record 18 of Set 3 | uthal\n",
      "Processing Record 19 of Set 3 | sao felix do xingu\n",
      "City not found. Skipping...\n",
      "Processing Record 20 of Set 3 | geraldton\n",
      "Processing Record 21 of Set 3 | redmond\n",
      "Processing Record 22 of Set 3 | bambous virieux\n",
      "Processing Record 23 of Set 3 | adre\n",
      "Processing Record 24 of Set 3 | bambanglipuro\n",
      "Processing Record 25 of Set 3 | kavieng\n",
      "Processing Record 26 of Set 3 | tottori\n",
      "City not found. Skipping...\n",
      "Processing Record 27 of Set 3 | muroto\n",
      "Processing Record 28 of Set 3 | martapura\n",
      "Processing Record 29 of Set 3 | oranjemund\n",
      "Processing Record 30 of Set 3 | necochea\n",
      "Processing Record 31 of Set 3 | wucheng\n",
      "Processing Record 32 of Set 3 | prieska\n",
      "Processing Record 33 of Set 3 | forio\n",
      "Processing Record 34 of Set 3 | pankrushikha\n",
      "Processing Record 35 of Set 3 | hirara\n",
      "Processing Record 36 of Set 3 | papara\n",
      "City not found. Skipping...\n",
      "Processing Record 37 of Set 3 | sol-iletsk\n",
      "Processing Record 38 of Set 3 | sechura\n",
      "City not found. Skipping...\n",
      "Processing Record 39 of Set 3 | talnakh\n",
      "Processing Record 40 of Set 3 | carndonagh\n",
      "City not found. Skipping...\n",
      "Processing Record 41 of Set 3 | port elizabeth\n",
      "Processing Record 42 of Set 3 | bom jesus da lapa\n",
      "Processing Record 43 of Set 3 | lavrentiya\n",
      "Processing Record 44 of Set 3 | dickinson\n",
      "Processing Record 45 of Set 3 | arrecife\n",
      "Processing Record 46 of Set 3 | nome\n",
      "Processing Record 47 of Set 3 | grindavik\n",
      "Processing Record 48 of Set 3 | eureka\n",
      "Processing Record 49 of Set 3 | leningradskiy\n",
      "Processing Record 50 of Set 3 | meulaboh\n",
      "Processing Record 0 of Set 4 | bonga\n",
      "Processing Record 1 of Set 4 | antsohihy\n",
      "Processing Record 2 of Set 4 | port hawkesbury\n",
      "Processing Record 3 of Set 4 | saint-philippe\n",
      "Processing Record 4 of Set 4 | mitzic\n",
      "Processing Record 5 of Set 4 | nizwa\n",
      "Processing Record 6 of Set 4 | nikolskoye\n",
      "Processing Record 7 of Set 4 | srednekolymsk\n",
      "Processing Record 8 of Set 4 | tiksi\n",
      "Processing Record 9 of Set 4 | khatanga\n",
      "Processing Record 10 of Set 4 | lebu\n",
      "Processing Record 11 of Set 4 | olginskaya\n",
      "Processing Record 12 of Set 4 | lompoc\n",
      "Processing Record 13 of Set 4 | butaritari\n",
      "City not found. Skipping...\n",
      "Processing Record 14 of Set 4 | kindu\n",
      "Processing Record 15 of Set 4 | tucuman\n",
      "Processing Record 16 of Set 4 | taoudenni\n",
      "Processing Record 17 of Set 4 | bogorodskoye\n",
      "Processing Record 18 of Set 4 | lichinga\n",
      "Processing Record 19 of Set 4 | te anau\n",
      "Processing Record 20 of Set 4 | samfya\n",
      "Processing Record 21 of Set 4 | salihorsk\n",
      "City not found. Skipping...\n",
      "Processing Record 22 of Set 4 | rafaela\n",
      "City not found. Skipping...\n",
      "City not found. Skipping...\n",
      "Processing Record 23 of Set 4 | dauriya\n",
      "Processing Record 24 of Set 4 | bonthe\n",
      "Processing Record 25 of Set 4 | udachnyy\n",
      "Processing Record 26 of Set 4 | torbay\n",
      "Processing Record 27 of Set 4 | padang\n",
      "Processing Record 28 of Set 4 | broken hill\n",
      "Processing Record 29 of Set 4 | itarema\n",
      "Processing Record 30 of Set 4 | naantali\n",
      "Processing Record 31 of Set 4 | koumac\n"
     ]
    },
    {
     "name": "stdout",
     "output_type": "stream",
     "text": [
      "Processing Record 32 of Set 4 | makakilo city\n",
      "Processing Record 33 of Set 4 | sao joao da barra\n",
      "Processing Record 34 of Set 4 | san patricio\n",
      "Processing Record 35 of Set 4 | saint george\n",
      "Processing Record 36 of Set 4 | qaanaaq\n",
      "Processing Record 37 of Set 4 | kawambwa\n",
      "Processing Record 38 of Set 4 | khasan\n",
      "Processing Record 39 of Set 4 | jamestown\n",
      "City not found. Skipping...\n",
      "Processing Record 40 of Set 4 | belyy yar\n",
      "City not found. Skipping...\n",
      "Processing Record 41 of Set 4 | port macquarie\n",
      "Processing Record 42 of Set 4 | sompeta\n",
      "Processing Record 43 of Set 4 | tiznit\n",
      "Processing Record 44 of Set 4 | kuytun\n",
      "Processing Record 45 of Set 4 | new norfolk\n",
      "Processing Record 46 of Set 4 | wajir\n",
      "Processing Record 47 of Set 4 | kota bahru\n",
      "Processing Record 48 of Set 4 | herre\n",
      "Processing Record 49 of Set 4 | mkushi\n",
      "City not found. Skipping...\n",
      "Processing Record 50 of Set 4 | rognan\n",
      "Processing Record 0 of Set 5 | mirnyy\n",
      "Processing Record 1 of Set 5 | mao\n",
      "Processing Record 2 of Set 5 | srandakan\n",
      "Processing Record 3 of Set 5 | greensburg\n",
      "Processing Record 4 of Set 5 | rize\n",
      "Processing Record 5 of Set 5 | chulym\n",
      "Processing Record 6 of Set 5 | navalmoral de la mata\n",
      "Processing Record 7 of Set 5 | cherskiy\n",
      "Processing Record 8 of Set 5 | aden\n",
      "Processing Record 9 of Set 5 | georgetown\n",
      "Processing Record 10 of Set 5 | sawtell\n",
      "City not found. Skipping...\n",
      "Processing Record 11 of Set 5 | salalah\n",
      "Processing Record 12 of Set 5 | cabo san lucas\n",
      "Processing Record 13 of Set 5 | jumla\n",
      "Processing Record 14 of Set 5 | pirgos\n",
      "Processing Record 15 of Set 5 | sitka\n",
      "Processing Record 16 of Set 5 | norman wells\n",
      "Processing Record 17 of Set 5 | port-gentil\n",
      "Processing Record 18 of Set 5 | gimli\n",
      "Processing Record 19 of Set 5 | zatoka\n",
      "Processing Record 20 of Set 5 | kruisfontein\n",
      "Processing Record 21 of Set 5 | airai\n",
      "Processing Record 22 of Set 5 | ojinaga\n",
      "Processing Record 23 of Set 5 | krasnovishersk\n",
      "Processing Record 24 of Set 5 | bengkulu\n",
      "Processing Record 25 of Set 5 | olafsvik\n",
      "Processing Record 26 of Set 5 | codrington\n",
      "Processing Record 27 of Set 5 | baghdad\n",
      "Processing Record 28 of Set 5 | rjukan\n",
      "Processing Record 29 of Set 5 | solnechnyy\n",
      "Processing Record 30 of Set 5 | xuddur\n",
      "Processing Record 31 of Set 5 | karratha\n",
      "Processing Record 32 of Set 5 | beringovskiy\n",
      "Processing Record 33 of Set 5 | east london\n",
      "Processing Record 34 of Set 5 | dobryatino\n",
      "Processing Record 35 of Set 5 | clyde river\n",
      "Processing Record 36 of Set 5 | avarua\n",
      "Processing Record 37 of Set 5 | shiyan\n",
      "Processing Record 38 of Set 5 | rudnogorsk\n",
      "Processing Record 39 of Set 5 | auki\n",
      "Processing Record 40 of Set 5 | nokaneng\n",
      "Processing Record 41 of Set 5 | kerur\n",
      "Processing Record 42 of Set 5 | mashhad\n",
      "Processing Record 43 of Set 5 | chattanooga\n",
      "Processing Record 44 of Set 5 | xining\n",
      "Processing Record 45 of Set 5 | ponta do sol\n",
      "Processing Record 46 of Set 5 | kaeo\n",
      "Processing Record 47 of Set 5 | palma di montechiaro\n",
      "Processing Record 48 of Set 5 | tarakan\n",
      "Processing Record 49 of Set 5 | marawi\n",
      "Processing Record 50 of Set 5 | vila franca do campo\n",
      "Processing Record 0 of Set 6 | zhigansk\n",
      "City not found. Skipping...\n",
      "Processing Record 1 of Set 6 | bognor regis\n",
      "Processing Record 2 of Set 6 | betafo\n",
      "Processing Record 3 of Set 6 | foumban\n",
      "Processing Record 4 of Set 6 | high rock\n",
      "Processing Record 5 of Set 6 | rio gallegos\n",
      "Processing Record 6 of Set 6 | bealanana\n",
      "Processing Record 7 of Set 6 | podgornoye\n",
      "Processing Record 8 of Set 6 | nhlangano\n",
      "Processing Record 9 of Set 6 | colan\n",
      "Processing Record 10 of Set 6 | coahuayana\n",
      "City not found. Skipping...\n",
      "Processing Record 11 of Set 6 | kuching\n",
      "Processing Record 12 of Set 6 | ugra\n",
      "Processing Record 13 of Set 6 | tura\n",
      "Processing Record 14 of Set 6 | kulhudhuffushi\n",
      "Processing Record 15 of Set 6 | lorengau\n",
      "Processing Record 16 of Set 6 | kjollefjord\n",
      "City not found. Skipping...\n",
      "Processing Record 17 of Set 6 | husavik\n",
      "Processing Record 18 of Set 6 | ust-shonosha\n",
      "Processing Record 19 of Set 6 | la ronge\n",
      "Processing Record 20 of Set 6 | yamethin\n",
      "Processing Record 21 of Set 6 | hay river\n",
      "Processing Record 22 of Set 6 | cap malheureux\n",
      "Processing Record 23 of Set 6 | haines junction\n",
      "Processing Record 24 of Set 6 | shahpura\n",
      "Processing Record 25 of Set 6 | amapa\n",
      "Processing Record 26 of Set 6 | krasnoselkup\n",
      "Processing Record 27 of Set 6 | nalut\n",
      "Processing Record 28 of Set 6 | quang ngai\n",
      "City not found. Skipping...\n",
      "Processing Record 29 of Set 6 | qingyuan\n",
      "Processing Record 30 of Set 6 | bulungu\n",
      "Processing Record 31 of Set 6 | simao\n",
      "Processing Record 32 of Set 6 | florianopolis\n",
      "City not found. Skipping...\n",
      "Processing Record 33 of Set 6 | mozarlandia\n",
      "Processing Record 34 of Set 6 | bethel\n",
      "Processing Record 35 of Set 6 | clarence town\n",
      "Processing Record 36 of Set 6 | palmer\n",
      "Processing Record 37 of Set 6 | flinders\n",
      "Processing Record 38 of Set 6 | edelira\n",
      "Processing Record 39 of Set 6 | luau\n",
      "City not found. Skipping...\n",
      "Processing Record 40 of Set 6 | brae\n",
      "Processing Record 41 of Set 6 | camocim\n",
      "Processing Record 42 of Set 6 | tual\n",
      "Processing Record 43 of Set 6 | gebre guracha\n",
      "Processing Record 44 of Set 6 | plastun\n",
      "Processing Record 45 of Set 6 | bumba\n",
      "Processing Record 46 of Set 6 | nsoko\n",
      "Processing Record 47 of Set 6 | lumby\n",
      "Processing Record 48 of Set 6 | kavaratti\n",
      "Processing Record 49 of Set 6 | baiyin\n",
      "Processing Record 50 of Set 6 | nioki\n",
      "Processing Record 0 of Set 7 | nyagan\n",
      "Processing Record 1 of Set 7 | luderitz\n",
      "Processing Record 2 of Set 7 | margate\n",
      "Processing Record 3 of Set 7 | maningrida\n",
      "Processing Record 4 of Set 7 | berdigestyakh\n",
      "Processing Record 5 of Set 7 | los llanos de aridane\n",
      "Processing Record 6 of Set 7 | sorong\n",
      "Processing Record 7 of Set 7 | pevek\n",
      "Processing Record 8 of Set 7 | abaete\n",
      "Processing Record 9 of Set 7 | goedereede\n",
      "City not found. Skipping...\n",
      "Processing Record 10 of Set 7 | saint-ambroise\n",
      "Processing Record 11 of Set 7 | henties bay\n",
      "Processing Record 12 of Set 7 | whitehorse\n",
      "Processing Record 13 of Set 7 | kushmurun\n",
      "Processing Record 14 of Set 7 | linxia\n",
      "Processing Record 15 of Set 7 | pitimbu\n",
      "Processing Record 16 of Set 7 | bairiki\n",
      "Processing Record 17 of Set 7 | axim\n",
      "Processing Record 18 of Set 7 | wum\n",
      "Processing Record 19 of Set 7 | vila do maio\n",
      "Processing Record 20 of Set 7 | epiniana\n",
      "Processing Record 21 of Set 7 | lac du bonnet\n",
      "Processing Record 22 of Set 7 | dunkwa\n",
      "Processing Record 23 of Set 7 | ilhabela\n",
      "Processing Record 24 of Set 7 | vardo\n",
      "Processing Record 25 of Set 7 | kitgum\n",
      "Processing Record 26 of Set 7 | avera\n",
      "Processing Record 27 of Set 7 | vao\n",
      "Processing Record 28 of Set 7 | fuxin\n",
      "Processing Record 29 of Set 7 | aksarka\n",
      "Processing Record 30 of Set 7 | benito juarez\n",
      "Processing Record 31 of Set 7 | calvia\n",
      "Processing Record 32 of Set 7 | vanimo\n",
      "Processing Record 33 of Set 7 | zarechnyy\n",
      "Processing Record 34 of Set 7 | praya\n",
      "Processing Record 35 of Set 7 | fortuna\n",
      "Processing Record 36 of Set 7 | tweed\n",
      "Processing Record 37 of Set 7 | saint-pierre\n",
      "Processing Record 38 of Set 7 | barahona\n",
      "Processing Record 39 of Set 7 | keti bandar\n",
      "Processing Record 40 of Set 7 | fonte boa\n",
      "Processing Record 41 of Set 7 | altamont\n",
      "Processing Record 42 of Set 7 | riyadh\n",
      "Processing Record 43 of Set 7 | port augusta\n",
      "Processing Record 44 of Set 7 | canandaigua\n",
      "Processing Record 45 of Set 7 | upernavik\n",
      "Processing Record 46 of Set 7 | camopi\n",
      "Processing Record 47 of Set 7 | fare\n",
      "Processing Record 48 of Set 7 | cairns\n",
      "Processing Record 49 of Set 7 | mahebourg\n",
      "Processing Record 50 of Set 7 | walvis bay\n",
      "Processing Record 0 of Set 8 | sibolga\n",
      "Processing Record 1 of Set 8 | nyurba\n",
      "Processing Record 2 of Set 8 | cayenne\n",
      "Processing Record 3 of Set 8 | mocuba\n",
      "Processing Record 4 of Set 8 | paracelis\n",
      "Processing Record 5 of Set 8 | broome\n",
      "Processing Record 6 of Set 8 | orange\n",
      "Processing Record 7 of Set 8 | burgeo\n",
      "Processing Record 8 of Set 8 | monywa\n",
      "Processing Record 9 of Set 8 | mumford\n",
      "Processing Record 10 of Set 8 | humaita\n",
      "Processing Record 11 of Set 8 | plettenberg bay\n",
      "City not found. Skipping...\n",
      "Processing Record 12 of Set 8 | kismayo\n",
      "Processing Record 13 of Set 8 | tezu\n",
      "Processing Record 14 of Set 8 | urengoy\n",
      "Processing Record 15 of Set 8 | pala\n",
      "Processing Record 16 of Set 8 | opuwo\n",
      "Processing Record 17 of Set 8 | comodoro rivadavia\n",
      "Processing Record 18 of Set 8 | soto la marina\n",
      "Processing Record 19 of Set 8 | along\n"
     ]
    },
    {
     "name": "stdout",
     "output_type": "stream",
     "text": [
      "Processing Record 20 of Set 8 | fort nelson\n",
      "Processing Record 21 of Set 8 | zeya\n",
      "Processing Record 22 of Set 8 | traverse city\n",
      "Processing Record 23 of Set 8 | tanout\n",
      "Processing Record 24 of Set 8 | carutapera\n",
      "Processing Record 25 of Set 8 | inhambane\n",
      "Processing Record 26 of Set 8 | san quintin\n",
      "Processing Record 27 of Set 8 | bobrov\n",
      "Processing Record 28 of Set 8 | barra do corda\n",
      "Processing Record 29 of Set 8 | thinadhoo\n",
      "City not found. Skipping...\n",
      "Processing Record 30 of Set 8 | ust-kuyga\n",
      "Processing Record 31 of Set 8 | kasongo-lunda\n",
      "Processing Record 32 of Set 8 | port lincoln\n",
      "Processing Record 33 of Set 8 | bukama\n",
      "Processing Record 34 of Set 8 | qaqortoq\n",
      "Processing Record 35 of Set 8 | berlevag\n",
      "Processing Record 36 of Set 8 | kedrovyy\n",
      "Processing Record 37 of Set 8 | helong\n",
      "Processing Record 38 of Set 8 | amazar\n",
      "Processing Record 39 of Set 8 | fernie\n",
      "Processing Record 40 of Set 8 | wainwright\n",
      "Processing Record 41 of Set 8 | ixtapa\n",
      "Processing Record 42 of Set 8 | ostrow wielkopolski\n",
      "Processing Record 43 of Set 8 | koshurnikovo\n",
      "Processing Record 44 of Set 8 | juazeiro\n",
      "Processing Record 45 of Set 8 | nouadhibou\n",
      "Processing Record 46 of Set 8 | hauge\n",
      "City not found. Skipping...\n",
      "Processing Record 47 of Set 8 | port blair\n",
      "Processing Record 48 of Set 8 | abu kamal\n",
      "Processing Record 49 of Set 8 | union\n",
      "Processing Record 50 of Set 8 | paamiut\n",
      "Processing Record 0 of Set 9 | bowen\n",
      "Processing Record 1 of Set 9 | cutervo\n",
      "Processing Record 2 of Set 9 | xixiang\n",
      "Processing Record 3 of Set 9 | lamar\n",
      "Processing Record 4 of Set 9 | faanui\n",
      "Processing Record 5 of Set 9 | khandbari\n",
      "Processing Record 6 of Set 9 | omboue\n",
      "Processing Record 7 of Set 9 | yangambi\n",
      "Processing Record 8 of Set 9 | presidencia roque saenz pena\n",
      "Processing Record 9 of Set 9 | svetlogorsk\n",
      "Processing Record 10 of Set 9 | pacific grove\n",
      "Processing Record 11 of Set 9 | yuzhno-kurilsk\n",
      "City not found. Skipping...\n",
      "City not found. Skipping...\n",
      "Processing Record 12 of Set 9 | villazon\n",
      "Processing Record 13 of Set 9 | balabac\n",
      "Processing Record 14 of Set 9 | sovetskiy\n",
      "City not found. Skipping...\n",
      "Processing Record 15 of Set 9 | sebastian\n",
      "Processing Record 16 of Set 9 | kahului\n",
      "City not found. Skipping...\n",
      "City not found. Skipping...\n",
      "Processing Record 17 of Set 9 | chauk\n",
      "Processing Record 18 of Set 9 | faya\n",
      "Processing Record 19 of Set 9 | mackay\n",
      "Processing Record 20 of Set 9 | marzuq\n",
      "Processing Record 21 of Set 9 | ambilobe\n",
      "Processing Record 22 of Set 9 | rawson\n",
      "Processing Record 23 of Set 9 | san cristobal\n",
      "Processing Record 24 of Set 9 | bocaiuva\n",
      "Processing Record 25 of Set 9 | nador\n",
      "Processing Record 26 of Set 9 | usinsk\n",
      "Processing Record 27 of Set 9 | saldanha\n",
      "Processing Record 28 of Set 9 | iskateley\n",
      "Processing Record 29 of Set 9 | methoni\n",
      "Processing Record 30 of Set 9 | lima\n",
      "Processing Record 31 of Set 9 | palafrugell\n",
      "Processing Record 32 of Set 9 | sobolevo\n",
      "Processing Record 33 of Set 9 | seddon\n",
      "Processing Record 34 of Set 9 | kachiry\n",
      "Processing Record 35 of Set 9 | aktau\n",
      "Processing Record 36 of Set 9 | tetouan\n",
      "Processing Record 37 of Set 9 | port hedland\n",
      "Processing Record 38 of Set 9 | maniitsoq\n",
      "Processing Record 39 of Set 9 | payo\n",
      "Processing Record 40 of Set 9 | fengcheng\n",
      "Processing Record 41 of Set 9 | sept-iles\n",
      "Processing Record 42 of Set 9 | prince george\n",
      "Processing Record 43 of Set 9 | camabatela\n",
      "Processing Record 44 of Set 9 | mount isa\n",
      "Processing Record 45 of Set 9 | ginda\n",
      "Processing Record 46 of Set 9 | pella\n",
      "Processing Record 47 of Set 9 | yakovlevka\n",
      "Processing Record 48 of Set 9 | umm kaddadah\n",
      "Processing Record 49 of Set 9 | tapiramuta\n",
      "Processing Record 50 of Set 9 | morondava\n",
      "Processing Record 0 of Set 10 | ketchikan\n",
      "Processing Record 1 of Set 10 | gawler\n",
      "Processing Record 2 of Set 10 | plaster rock\n",
      "Processing Record 3 of Set 10 | mamontovo\n",
      "City not found. Skipping...\n",
      "Processing Record 4 of Set 10 | terme\n",
      "Processing Record 5 of Set 10 | progreso\n",
      "Processing Record 6 of Set 10 | dryden\n",
      "Processing Record 7 of Set 10 | mansa\n",
      "City not found. Skipping...\n",
      "Processing Record 8 of Set 10 | kuandian\n",
      "Processing Record 9 of Set 10 | tuatapere\n",
      "Processing Record 10 of Set 10 | esso\n",
      "Processing Record 11 of Set 10 | michigan city\n",
      "Processing Record 12 of Set 10 | coihaique\n",
      "Processing Record 13 of Set 10 | sakakah\n",
      "Processing Record 14 of Set 10 | klaksvik\n",
      "City not found. Skipping...\n",
      "City not found. Skipping...\n",
      "Processing Record 15 of Set 10 | kingsville\n",
      "Processing Record 16 of Set 10 | carbonia\n",
      "Processing Record 17 of Set 10 | punganuru\n",
      "Processing Record 18 of Set 10 | puerto escondido\n",
      "Processing Record 19 of Set 10 | yeppoon\n",
      "Processing Record 20 of Set 10 | barra patuca\n",
      "Processing Record 21 of Set 10 | pangody\n",
      "Processing Record 22 of Set 10 | lithgow\n",
      "Processing Record 23 of Set 10 | juneau\n",
      "Processing Record 24 of Set 10 | yarim\n",
      "Processing Record 25 of Set 10 | sharjah\n",
      "Processing Record 26 of Set 10 | altay\n",
      "Processing Record 27 of Set 10 | mount gambier\n",
      "Processing Record 28 of Set 10 | lata\n",
      "Processing Record 29 of Set 10 | great yarmouth\n",
      "Processing Record 30 of Set 10 | muisne\n",
      "Processing Record 31 of Set 10 | arlit\n",
      "Processing Record 32 of Set 10 | luna\n",
      "Processing Record 33 of Set 10 | cam ranh\n",
      "Processing Record 34 of Set 10 | malakal\n",
      "Processing Record 35 of Set 10 | onalaska\n",
      "Processing Record 36 of Set 10 | kangaatsiaq\n",
      "Processing Record 37 of Set 10 | general roca\n",
      "Processing Record 38 of Set 10 | kamaishi\n",
      "Processing Record 39 of Set 10 | sorland\n",
      "Processing Record 40 of Set 10 | oeiras\n",
      "Processing Record 41 of Set 10 | berbera\n",
      "City not found. Skipping...\n",
      "Processing Record 42 of Set 10 | boromlya\n",
      "Processing Record 43 of Set 10 | beipiao\n",
      "Processing Record 44 of Set 10 | zaoyang\n",
      "Processing Record 45 of Set 10 | ibaiti\n",
      "Processing Record 46 of Set 10 | banda aceh\n",
      "Processing Record 47 of Set 10 | maceio\n",
      "Processing Record 48 of Set 10 | ankazoabo\n",
      "Processing Record 49 of Set 10 | agirish\n",
      "Processing Record 50 of Set 10 | buala\n",
      "Processing Record 0 of Set 11 | dingle\n",
      "Processing Record 1 of Set 11 | bacolod\n",
      "Processing Record 2 of Set 11 | la asuncion\n",
      "Processing Record 3 of Set 11 | vaitape\n",
      "Processing Record 4 of Set 11 | port pirie\n",
      "Processing Record 5 of Set 11 | honningsvag\n",
      "Processing Record 6 of Set 11 | manono\n",
      "Processing Record 7 of Set 11 | kidal\n",
      "Processing Record 8 of Set 11 | nouakchott\n",
      "Processing Record 9 of Set 11 | tatarsk\n",
      "Processing Record 10 of Set 11 | rodnykove\n",
      "Processing Record 11 of Set 11 | nowy dwor mazowiecki\n",
      "Processing Record 12 of Set 11 | miri\n",
      "Processing Record 13 of Set 11 | kuragino\n",
      "Processing Record 14 of Set 11 | marrakesh\n",
      "Processing Record 15 of Set 11 | pochutla\n",
      "City not found. Skipping...\n",
      "Processing Record 16 of Set 11 | shurugwi\n",
      "Processing Record 17 of Set 11 | belur\n",
      "Processing Record 18 of Set 11 | kununurra\n",
      "Processing Record 19 of Set 11 | lenoir\n",
      "Processing Record 20 of Set 11 | san vicente\n",
      "Processing Record 21 of Set 11 | dubbo\n",
      "Processing Record 22 of Set 11 | ternate\n",
      "Processing Record 23 of Set 11 | kupang\n",
      "Processing Record 24 of Set 11 | nakambala\n",
      "Processing Record 25 of Set 11 | nhulunbuy\n",
      "Processing Record 26 of Set 11 | maloy\n",
      "Processing Record 27 of Set 11 | kintampo\n",
      "Processing Record 28 of Set 11 | moramanga\n",
      "Processing Record 29 of Set 11 | mahajanga\n",
      "Processing Record 30 of Set 11 | heishan\n",
      "Processing Record 31 of Set 11 | san jeronimo\n",
      "Processing Record 32 of Set 11 | dudinka\n",
      "Processing Record 33 of Set 11 | gunzburg\n",
      "Processing Record 34 of Set 11 | mandalgovi\n",
      "City not found. Skipping...\n",
      "Processing Record 35 of Set 11 | lafayette\n",
      "Processing Record 36 of Set 11 | ouegoa\n",
      "Processing Record 37 of Set 11 | luanda\n",
      "Processing Record 38 of Set 11 | chyhyryn\n",
      "Processing Record 39 of Set 11 | port hardy\n",
      "Processing Record 40 of Set 11 | batagay\n",
      "Processing Record 41 of Set 11 | biswan\n",
      "City not found. Skipping...\n",
      "Processing Record 42 of Set 11 | kolosovka\n",
      "Processing Record 43 of Set 11 | gumdag\n",
      "Processing Record 44 of Set 11 | laguna\n",
      "Processing Record 45 of Set 11 | sumbe\n",
      "Processing Record 46 of Set 11 | alofi\n",
      "City not found. Skipping...\n",
      "Processing Record 47 of Set 11 | praia da vitoria\n",
      "Processing Record 48 of Set 11 | patea\n",
      "Processing Record 49 of Set 11 | venado tuerto\n",
      "City not found. Skipping...\n",
      "Processing Record 50 of Set 11 | dhanwar\n",
      "Processing Record 0 of Set 12 | duluth\n",
      "Processing Record 1 of Set 12 | bac lieu\n"
     ]
    },
    {
     "name": "stdout",
     "output_type": "stream",
     "text": [
      "Processing Record 2 of Set 12 | paraiso\n",
      "Processing Record 3 of Set 12 | santa rosa\n",
      "Processing Record 4 of Set 12 | corinto\n",
      "Processing Record 5 of Set 12 | santa ana\n",
      "Processing Record 6 of Set 12 | shingu\n",
      "Processing Record 7 of Set 12 | andijon\n",
      "Processing Record 8 of Set 12 | roald\n",
      "City not found. Skipping...\n",
      "City not found. Skipping...\n",
      "Processing Record 9 of Set 12 | bikaner\n",
      "Processing Record 10 of Set 12 | hammerfest\n",
      "Processing Record 11 of Set 12 | mattru\n",
      "City not found. Skipping...\n",
      "City not found. Skipping...\n",
      "Processing Record 12 of Set 12 | zuenoula\n",
      "Processing Record 13 of Set 12 | mitsamiouli\n",
      "Processing Record 14 of Set 12 | alto lucero\n",
      "Processing Record 15 of Set 12 | bam\n",
      "Processing Record 16 of Set 12 | biak\n",
      "Processing Record 17 of Set 12 | gobabis\n",
      "Processing Record 18 of Set 12 | tarata\n",
      "Processing Record 19 of Set 12 | ha tinh\n",
      "Processing Record 20 of Set 12 | tartagal\n",
      "Processing Record 21 of Set 12 | suicheng\n",
      "City not found. Skipping...\n",
      "-----------------------------\n",
      "Data Retrieval Complete\n",
      "-----------------------------\n"
     ]
    }
   ],
   "source": [
    "date = []\n",
    "city_list = []\n",
    "latitude = []\n",
    "longitude = []\n",
    "humidity = []\n",
    "cloudiness = []\n",
    "wind_speed = []\n",
    "max_temp = []\n",
    "\n",
    "record_no = 0\n",
    "set_no = 1\n",
    "\n",
    "print(\"Beginning Data Retrieval\")\n",
    "print(\"-------------------------\")\n",
    "\n",
    "base_url = \"https://api.openweathermap.org/data/2.5/weather?\"\n",
    "query_url = f\"{base_url}&appid={weather_api_key}&q=\"\n",
    "\n",
    "for city in cities:\n",
    "    try:\n",
    "        response = requests.get(query_url + city).json()\n",
    "        date.append(response[\"dt\"])        \n",
    "        city_list.append(response[\"name\"])\n",
    "        latitude.append(response[\"coord\"][\"lat\"])\n",
    "        longitude.append(response[\"coord\"][\"lon\"])\n",
    "        humidity.append(response[\"main\"][\"humidity\"])\n",
    "        cloudiness.append(response[\"clouds\"][\"all\"])\n",
    "        wind_speed.append(response[\"wind\"][\"speed\"])\n",
    "        max_temp.append(response['main']['temp_max'])\n",
    "    \n",
    "        if record_no >= 50:\n",
    "            record_no = 0\n",
    "            set_no += 1\n",
    "        else:\n",
    "            record_no += 1\n",
    "            \n",
    "        print(f\"Processing Record {record_no} of Set {set_no} | {city}\")\n",
    "        \n",
    "    except(KeyError, IndexError):\n",
    "        print(\"City not found. Skipping...\")\n",
    "        \n",
    "\n",
    "print(\"-----------------------------\")\n",
    "print(\"Data Retrieval Complete\")\n",
    "print(\"-----------------------------\")         "
   ]
  },
  {
   "cell_type": "markdown",
   "metadata": {},
   "source": [
    "### Convert Raw Data to DataFrame\n",
    "* Export the city data into a .csv.\n",
    "* Display the DataFrame"
   ]
  },
  {
   "cell_type": "code",
   "execution_count": 40,
   "metadata": {},
   "outputs": [],
   "source": [
    "weather_df = pd.DataFrame({\n",
    "    \"Date\":date,\n",
    "    \"City\":city_list,\n",
    "    \"Latitude\":latitude,\n",
    "    \"Longitude\":longitude,\n",
    "    \"Humidity\":humidity,\n",
    "    \"Cloudiness\":cloudiness,\n",
    "    \"Wind Speed\":wind_speed,\n",
    "    \"Max Temp\": max_temp\n",
    "       \n",
    "})\n",
    "\n",
    "weather_df.head()\n",
    "weather_df.to_csv(\"../output_data/weather_data.csv\", index = False)"
   ]
  },
  {
   "cell_type": "code",
   "execution_count": 16,
   "metadata": {},
   "outputs": [
    {
     "data": {
      "text/html": [
       "<div>\n",
       "<style scoped>\n",
       "    .dataframe tbody tr th:only-of-type {\n",
       "        vertical-align: middle;\n",
       "    }\n",
       "\n",
       "    .dataframe tbody tr th {\n",
       "        vertical-align: top;\n",
       "    }\n",
       "\n",
       "    .dataframe thead th {\n",
       "        text-align: right;\n",
       "    }\n",
       "</style>\n",
       "<table border=\"1\" class=\"dataframe\">\n",
       "  <thead>\n",
       "    <tr style=\"text-align: right;\">\n",
       "      <th></th>\n",
       "      <th>Date</th>\n",
       "      <th>Latitude</th>\n",
       "      <th>Longitude</th>\n",
       "      <th>Humidity</th>\n",
       "      <th>Cloudiness</th>\n",
       "      <th>Wind Speed</th>\n",
       "      <th>Max Temp</th>\n",
       "    </tr>\n",
       "  </thead>\n",
       "  <tbody>\n",
       "    <tr>\n",
       "      <th>count</th>\n",
       "      <td>5.820000e+02</td>\n",
       "      <td>582.000000</td>\n",
       "      <td>582.000000</td>\n",
       "      <td>582.00000</td>\n",
       "      <td>582.000000</td>\n",
       "      <td>582.000000</td>\n",
       "      <td>582.000000</td>\n",
       "    </tr>\n",
       "    <tr>\n",
       "      <th>mean</th>\n",
       "      <td>1.653636e+09</td>\n",
       "      <td>19.549212</td>\n",
       "      <td>21.747250</td>\n",
       "      <td>68.12543</td>\n",
       "      <td>54.202749</td>\n",
       "      <td>3.492973</td>\n",
       "      <td>292.232715</td>\n",
       "    </tr>\n",
       "    <tr>\n",
       "      <th>std</th>\n",
       "      <td>9.893713e+01</td>\n",
       "      <td>33.481942</td>\n",
       "      <td>87.801229</td>\n",
       "      <td>23.56088</td>\n",
       "      <td>42.075706</td>\n",
       "      <td>2.291495</td>\n",
       "      <td>9.282137</td>\n",
       "    </tr>\n",
       "    <tr>\n",
       "      <th>min</th>\n",
       "      <td>1.653635e+09</td>\n",
       "      <td>-54.800000</td>\n",
       "      <td>-175.200000</td>\n",
       "      <td>1.00000</td>\n",
       "      <td>0.000000</td>\n",
       "      <td>0.000000</td>\n",
       "      <td>261.300000</td>\n",
       "    </tr>\n",
       "    <tr>\n",
       "      <th>25%</th>\n",
       "      <td>1.653636e+09</td>\n",
       "      <td>-8.904150</td>\n",
       "      <td>-53.321200</td>\n",
       "      <td>54.00000</td>\n",
       "      <td>7.000000</td>\n",
       "      <td>1.722500</td>\n",
       "      <td>285.495000</td>\n",
       "    </tr>\n",
       "    <tr>\n",
       "      <th>50%</th>\n",
       "      <td>1.653636e+09</td>\n",
       "      <td>22.912100</td>\n",
       "      <td>26.789300</td>\n",
       "      <td>74.00000</td>\n",
       "      <td>60.000000</td>\n",
       "      <td>3.090000</td>\n",
       "      <td>293.260000</td>\n",
       "    </tr>\n",
       "    <tr>\n",
       "      <th>75%</th>\n",
       "      <td>1.653636e+09</td>\n",
       "      <td>48.525075</td>\n",
       "      <td>97.183775</td>\n",
       "      <td>87.00000</td>\n",
       "      <td>100.000000</td>\n",
       "      <td>4.637500</td>\n",
       "      <td>298.972500</td>\n",
       "    </tr>\n",
       "    <tr>\n",
       "      <th>max</th>\n",
       "      <td>1.653636e+09</td>\n",
       "      <td>78.218600</td>\n",
       "      <td>179.316700</td>\n",
       "      <td>100.00000</td>\n",
       "      <td>100.000000</td>\n",
       "      <td>14.400000</td>\n",
       "      <td>315.320000</td>\n",
       "    </tr>\n",
       "  </tbody>\n",
       "</table>\n",
       "</div>"
      ],
      "text/plain": [
       "               Date    Latitude   Longitude   Humidity  Cloudiness  \\\n",
       "count  5.820000e+02  582.000000  582.000000  582.00000  582.000000   \n",
       "mean   1.653636e+09   19.549212   21.747250   68.12543   54.202749   \n",
       "std    9.893713e+01   33.481942   87.801229   23.56088   42.075706   \n",
       "min    1.653635e+09  -54.800000 -175.200000    1.00000    0.000000   \n",
       "25%    1.653636e+09   -8.904150  -53.321200   54.00000    7.000000   \n",
       "50%    1.653636e+09   22.912100   26.789300   74.00000   60.000000   \n",
       "75%    1.653636e+09   48.525075   97.183775   87.00000  100.000000   \n",
       "max    1.653636e+09   78.218600  179.316700  100.00000  100.000000   \n",
       "\n",
       "       Wind Speed    Max Temp  \n",
       "count  582.000000  582.000000  \n",
       "mean     3.492973  292.232715  \n",
       "std      2.291495    9.282137  \n",
       "min      0.000000  261.300000  \n",
       "25%      1.722500  285.495000  \n",
       "50%      3.090000  293.260000  \n",
       "75%      4.637500  298.972500  \n",
       "max     14.400000  315.320000  "
      ]
     },
     "execution_count": 16,
     "metadata": {},
     "output_type": "execute_result"
    }
   ],
   "source": [
    "descriptive_weather = weather_df.describe(exclude=[object])\n",
    "descriptive_weather"
   ]
  },
  {
   "cell_type": "markdown",
   "metadata": {},
   "source": [
    "## Inspect the data and remove the cities where the humidity > 100%.\n",
    "----\n",
    "Skip this step if there are no cities that have humidity > 100%. "
   ]
  },
  {
   "cell_type": "code",
   "execution_count": 6,
   "metadata": {},
   "outputs": [
    {
     "data": {
      "text/html": [
       "<div>\n",
       "<style scoped>\n",
       "    .dataframe tbody tr th:only-of-type {\n",
       "        vertical-align: middle;\n",
       "    }\n",
       "\n",
       "    .dataframe tbody tr th {\n",
       "        vertical-align: top;\n",
       "    }\n",
       "\n",
       "    .dataframe thead th {\n",
       "        text-align: right;\n",
       "    }\n",
       "</style>\n",
       "<table border=\"1\" class=\"dataframe\">\n",
       "  <thead>\n",
       "    <tr style=\"text-align: right;\">\n",
       "      <th></th>\n",
       "      <th>Lat</th>\n",
       "      <th>Lng</th>\n",
       "      <th>Max Temp</th>\n",
       "      <th>Humidity</th>\n",
       "      <th>Cloudiness</th>\n",
       "      <th>Wind Speed</th>\n",
       "      <th>Date</th>\n",
       "    </tr>\n",
       "  </thead>\n",
       "  <tbody>\n",
       "    <tr>\n",
       "      <th>count</th>\n",
       "      <td>550.000000</td>\n",
       "      <td>550.000000</td>\n",
       "      <td>550.000000</td>\n",
       "      <td>550.000000</td>\n",
       "      <td>550.000000</td>\n",
       "      <td>550.000000</td>\n",
       "      <td>5.500000e+02</td>\n",
       "    </tr>\n",
       "    <tr>\n",
       "      <th>mean</th>\n",
       "      <td>19.973545</td>\n",
       "      <td>17.124400</td>\n",
       "      <td>58.331400</td>\n",
       "      <td>67.890909</td>\n",
       "      <td>52.141818</td>\n",
       "      <td>8.544800</td>\n",
       "      <td>1.585764e+09</td>\n",
       "    </tr>\n",
       "    <tr>\n",
       "      <th>std</th>\n",
       "      <td>33.284840</td>\n",
       "      <td>91.595451</td>\n",
       "      <td>25.795297</td>\n",
       "      <td>20.864881</td>\n",
       "      <td>35.766469</td>\n",
       "      <td>6.078869</td>\n",
       "      <td>5.539674e+01</td>\n",
       "    </tr>\n",
       "    <tr>\n",
       "      <th>min</th>\n",
       "      <td>-54.800000</td>\n",
       "      <td>-179.170000</td>\n",
       "      <td>-11.340000</td>\n",
       "      <td>9.000000</td>\n",
       "      <td>0.000000</td>\n",
       "      <td>0.160000</td>\n",
       "      <td>1.585764e+09</td>\n",
       "    </tr>\n",
       "    <tr>\n",
       "      <th>25%</th>\n",
       "      <td>-8.077500</td>\n",
       "      <td>-64.627500</td>\n",
       "      <td>42.800000</td>\n",
       "      <td>55.000000</td>\n",
       "      <td>20.000000</td>\n",
       "      <td>4.525000</td>\n",
       "      <td>1.585764e+09</td>\n",
       "    </tr>\n",
       "    <tr>\n",
       "      <th>50%</th>\n",
       "      <td>23.630000</td>\n",
       "      <td>19.635000</td>\n",
       "      <td>64.940000</td>\n",
       "      <td>72.000000</td>\n",
       "      <td>57.000000</td>\n",
       "      <td>7.325000</td>\n",
       "      <td>1.585764e+09</td>\n",
       "    </tr>\n",
       "    <tr>\n",
       "      <th>75%</th>\n",
       "      <td>48.672500</td>\n",
       "      <td>97.350000</td>\n",
       "      <td>78.800000</td>\n",
       "      <td>83.000000</td>\n",
       "      <td>86.750000</td>\n",
       "      <td>11.410000</td>\n",
       "      <td>1.585764e+09</td>\n",
       "    </tr>\n",
       "    <tr>\n",
       "      <th>max</th>\n",
       "      <td>78.220000</td>\n",
       "      <td>179.320000</td>\n",
       "      <td>102.200000</td>\n",
       "      <td>100.000000</td>\n",
       "      <td>100.000000</td>\n",
       "      <td>46.080000</td>\n",
       "      <td>1.585764e+09</td>\n",
       "    </tr>\n",
       "  </tbody>\n",
       "</table>\n",
       "</div>"
      ],
      "text/plain": [
       "              Lat         Lng    Max Temp    Humidity  Cloudiness  Wind Speed  \\\n",
       "count  550.000000  550.000000  550.000000  550.000000  550.000000  550.000000   \n",
       "mean    19.973545   17.124400   58.331400   67.890909   52.141818    8.544800   \n",
       "std     33.284840   91.595451   25.795297   20.864881   35.766469    6.078869   \n",
       "min    -54.800000 -179.170000  -11.340000    9.000000    0.000000    0.160000   \n",
       "25%     -8.077500  -64.627500   42.800000   55.000000   20.000000    4.525000   \n",
       "50%     23.630000   19.635000   64.940000   72.000000   57.000000    7.325000   \n",
       "75%     48.672500   97.350000   78.800000   83.000000   86.750000   11.410000   \n",
       "max     78.220000  179.320000  102.200000  100.000000  100.000000   46.080000   \n",
       "\n",
       "               Date  \n",
       "count  5.500000e+02  \n",
       "mean   1.585764e+09  \n",
       "std    5.539674e+01  \n",
       "min    1.585764e+09  \n",
       "25%    1.585764e+09  \n",
       "50%    1.585764e+09  \n",
       "75%    1.585764e+09  \n",
       "max    1.585764e+09  "
      ]
     },
     "execution_count": 6,
     "metadata": {},
     "output_type": "execute_result"
    }
   ],
   "source": []
  },
  {
   "cell_type": "code",
   "execution_count": 17,
   "metadata": {},
   "outputs": [
    {
     "data": {
      "text/plain": [
       "Int64Index([], dtype='int64')"
      ]
     },
     "execution_count": 17,
     "metadata": {},
     "output_type": "execute_result"
    }
   ],
   "source": [
    "#  Get the indices of cities that have humidity over 100%.\n"
   ]
  },
  {
   "cell_type": "code",
   "execution_count": 19,
   "metadata": {},
   "outputs": [
    {
     "data": {
      "text/html": [
       "<div>\n",
       "<style scoped>\n",
       "    .dataframe tbody tr th:only-of-type {\n",
       "        vertical-align: middle;\n",
       "    }\n",
       "\n",
       "    .dataframe tbody tr th {\n",
       "        vertical-align: top;\n",
       "    }\n",
       "\n",
       "    .dataframe thead th {\n",
       "        text-align: right;\n",
       "    }\n",
       "</style>\n",
       "<table border=\"1\" class=\"dataframe\">\n",
       "  <thead>\n",
       "    <tr style=\"text-align: right;\">\n",
       "      <th></th>\n",
       "      <th>City</th>\n",
       "      <th>Lat</th>\n",
       "      <th>Lng</th>\n",
       "      <th>Max Temp</th>\n",
       "      <th>Humidity</th>\n",
       "      <th>Cloudiness</th>\n",
       "      <th>Wind Speed</th>\n",
       "      <th>Country</th>\n",
       "      <th>Date</th>\n",
       "    </tr>\n",
       "  </thead>\n",
       "  <tbody>\n",
       "    <tr>\n",
       "      <td>0</td>\n",
       "      <td>butaritari</td>\n",
       "      <td>3.07</td>\n",
       "      <td>172.79</td>\n",
       "      <td>83.32</td>\n",
       "      <td>74</td>\n",
       "      <td>84</td>\n",
       "      <td>10.42</td>\n",
       "      <td>KI</td>\n",
       "      <td>1593605283</td>\n",
       "    </tr>\n",
       "    <tr>\n",
       "      <td>1</td>\n",
       "      <td>yerbogachen</td>\n",
       "      <td>61.28</td>\n",
       "      <td>108.01</td>\n",
       "      <td>79.52</td>\n",
       "      <td>58</td>\n",
       "      <td>20</td>\n",
       "      <td>7.70</td>\n",
       "      <td>RU</td>\n",
       "      <td>1593605121</td>\n",
       "    </tr>\n",
       "    <tr>\n",
       "      <td>2</td>\n",
       "      <td>cape town</td>\n",
       "      <td>-33.93</td>\n",
       "      <td>18.42</td>\n",
       "      <td>73.00</td>\n",
       "      <td>77</td>\n",
       "      <td>27</td>\n",
       "      <td>4.70</td>\n",
       "      <td>ZA</td>\n",
       "      <td>1593605039</td>\n",
       "    </tr>\n",
       "    <tr>\n",
       "      <td>3</td>\n",
       "      <td>touba</td>\n",
       "      <td>8.28</td>\n",
       "      <td>-7.68</td>\n",
       "      <td>79.97</td>\n",
       "      <td>75</td>\n",
       "      <td>82</td>\n",
       "      <td>3.58</td>\n",
       "      <td>CI</td>\n",
       "      <td>1593605284</td>\n",
       "    </tr>\n",
       "    <tr>\n",
       "      <td>4</td>\n",
       "      <td>jamestown</td>\n",
       "      <td>42.10</td>\n",
       "      <td>-79.24</td>\n",
       "      <td>64.00</td>\n",
       "      <td>88</td>\n",
       "      <td>1</td>\n",
       "      <td>6.93</td>\n",
       "      <td>US</td>\n",
       "      <td>1593605284</td>\n",
       "    </tr>\n",
       "  </tbody>\n",
       "</table>\n",
       "</div>"
      ],
      "text/plain": [
       "          City    Lat     Lng  Max Temp  Humidity  Cloudiness  Wind Speed  \\\n",
       "0   butaritari   3.07  172.79     83.32        74          84       10.42   \n",
       "1  yerbogachen  61.28  108.01     79.52        58          20        7.70   \n",
       "2    cape town -33.93   18.42     73.00        77          27        4.70   \n",
       "3        touba   8.28   -7.68     79.97        75          82        3.58   \n",
       "4    jamestown  42.10  -79.24     64.00        88           1        6.93   \n",
       "\n",
       "  Country        Date  \n",
       "0      KI  1593605283  \n",
       "1      RU  1593605121  \n",
       "2      ZA  1593605039  \n",
       "3      CI  1593605284  \n",
       "4      US  1593605284  "
      ]
     },
     "execution_count": 19,
     "metadata": {},
     "output_type": "execute_result"
    }
   ],
   "source": [
    "# Make a new DataFrame equal to the city data to drop all humidity outliers by index.\n",
    "# Passing \"inplace=False\" will make a copy of the city_data DataFrame, which we call \"clean_city_data\".\n"
   ]
  },
  {
   "cell_type": "code",
   "execution_count": null,
   "metadata": {},
   "outputs": [],
   "source": [
    "\n"
   ]
  },
  {
   "cell_type": "markdown",
   "metadata": {},
   "source": [
    "## Plotting the Data\n",
    "* Use proper labeling of the plots using plot titles (including date of analysis) and axes labels.\n",
    "* Save the plotted figures as .pngs in the output_data folder\n",
    "* Below are examples of what you should get but your results will be different."
   ]
  },
  {
   "cell_type": "markdown",
   "metadata": {},
   "source": [
    "## Latitude vs. Temperature Plot"
   ]
  },
  {
   "cell_type": "code",
   "execution_count": 19,
   "metadata": {
    "scrolled": true
   },
   "outputs": [
    {
     "data": {
      "image/png": "[encoded data removed]",
      "text/plain": [
       "<Figure size 432x288 with 1 Axes>"
      ]
     },
     "metadata": {
      "needs_background": "light"
     },
     "output_type": "display_data"
    }
   ],
   "source": [
    "scatter_lat = weather_df[\"Latitude\"]\n",
    "scatter_temp = weather_df[\"Max Temp\"]\n",
    "plt.scatter(scatter_lat,scatter_temp)\n",
    "plt.title(\"Latitude vs. Max Temp 05/27/2022\")\n",
    "plt.xlabel(\"Latitude\")\n",
    "plt.ylabel(\"Max Temperature (K)\")\n",
    "plt.savefig(\"../Images/Latitude_vs_Temperature\")\n",
    "plt.show()"
   ]
  },
  {
   "cell_type": "markdown",
   "metadata": {},
   "source": [
    "## Latitude vs. Humidity Plot"
   ]
  },
  {
   "cell_type": "code",
   "execution_count": 21,
   "metadata": {},
   "outputs": [
    {
     "data": {
      "image/png": "[encoded data removed]",
      "text/plain": [
       "<Figure size 432x288 with 1 Axes>"
      ]
     },
     "metadata": {
      "needs_background": "light"
     },
     "output_type": "display_data"
    }
   ],
   "source": [
    "humidity_scatter = weather_df[\"Humidity\"]\n",
    "plt.scatter(scatter_lat,humidity_scatter)\n",
    "plt.title(\"Latitude vs. Humidity 05/27/2022\")\n",
    "plt.xlabel(\"Latitude\")\n",
    "plt.ylabel(\"Humidity (%)\")\n",
    "plt.savefig(\"../Images/Latitude_vs_Humidity\")\n",
    "plt.show()"
   ]
  },
  {
   "cell_type": "markdown",
   "metadata": {},
   "source": [
    "## Latitude vs. Cloudiness Plot"
   ]
  },
  {
   "cell_type": "code",
   "execution_count": 23,
   "metadata": {},
   "outputs": [
    {
     "data": {
      "image/png": "[encoded data removed]",
      "text/plain": [
       "<Figure size 432x288 with 1 Axes>"
      ]
     },
     "metadata": {
      "needs_background": "light"
     },
     "output_type": "display_data"
    }
   ],
   "source": [
    "cloud_scatter = weather_df[\"Cloudiness\"]\n",
    "plt.scatter(scatter_lat,cloud_scatter)\n",
    "plt.title(\"Latitude vs. Cloudiness 05/27/2022\")\n",
    "plt.xlabel(\"Latitude\")\n",
    "plt.ylabel(\"Cloudiness (%)\")\n",
    "plt.savefig(\"../Images/Latitude_vs_Cloudiness\")\n",
    "plt.show()"
   ]
  },
  {
   "cell_type": "markdown",
   "metadata": {},
   "source": [
    "## Latitude vs. Wind Speed Plot"
   ]
  },
  {
   "cell_type": "code",
   "execution_count": 24,
   "metadata": {},
   "outputs": [
    {
     "data": {
      "image/png": "[encoded data removed]",
      "text/plain": [
       "<Figure size 432x288 with 1 Axes>"
      ]
     },
     "metadata": {
      "needs_background": "light"
     },
     "output_type": "display_data"
    }
   ],
   "source": [
    "wind_scatter = weather_df[\"Wind Speed\"]\n",
    "plt.scatter(scatter_lat,cloud_scatter)\n",
    "plt.title(\"Latitude vs. Wind Speed 05/27/2022\")\n",
    "plt.xlabel(\"Latitude\")\n",
    "plt.ylabel(\"Wind Speed (mph)\")\n",
    "plt.savefig(\"../Images/Latitude_vs_Windspeed\")\n",
    "plt.show()"
   ]
  },
  {
   "cell_type": "markdown",
   "metadata": {},
   "source": [
    "## Linear Regression"
   ]
  },
  {
   "cell_type": "code",
   "execution_count": 24,
   "metadata": {},
   "outputs": [],
   "source": []
  },
  {
   "cell_type": "markdown",
   "metadata": {},
   "source": [
    "####  Northern Hemisphere - Max Temp vs. Latitude Linear Regression"
   ]
  },
  {
   "cell_type": "code",
   "execution_count": 30,
   "metadata": {},
   "outputs": [
    {
     "name": "stdout",
     "output_type": "stream",
     "text": [
      "β0= 306.6267273660839\n",
      "β1= -0.3725929881996824\n",
      "r= -0.7575461088905757\n",
      "interpretation: latitude goes up max temp goes down\n"
     ]
    },
    {
     "data": {
      "image/png": "[encoded data removed]",
      "text/plain": [
       "<Figure size 432x288 with 1 Axes>"
      ]
     },
     "metadata": {
      "needs_background": "light"
     },
     "output_type": "display_data"
    }
   ],
   "source": [
    "north = weather_df.loc[weather_df[\"Latitude\"] >= 0,:]\n",
    "south = weather_df.loc[weather_df[\"Latitude\"] <= 0,:]\n",
    "\n",
    "north_lat_reg = north[\"Latitude\"]\n",
    "north_temp_reg = north[\"Max Temp\"]\n",
    "\n",
    "(slope, intercept, rvalue, pvalue, stderr) = linregress(north_lat_reg,north_temp_reg)\n",
    "north_outputs = north_lat_reg * slope + intercept\n",
    "plt.scatter(north_lat_reg,north_temp_reg)\n",
    "\n",
    "plt.plot(north_lat_reg,north_outputs)\n",
    "\n",
    "plt.xlabel(\"Latitude\")\n",
    "plt.ylabel(\"Max Temp\")\n",
    "\n",
    "print(f\"β0= {intercept}\")\n",
    "print(f\"β1= {slope}\")\n",
    "print(f\"r= {rvalue}\")\n",
    "print(\"interpretation: latitude goes up max temp goes down\")\n",
    "\n",
    "plt.savefig(\"../Images/Northern_Hemisphere_Latitude_vs_MaxTemp\")\n",
    "\n",
    "\n"
   ]
  },
  {
   "cell_type": "markdown",
   "metadata": {},
   "source": [
    "####  Southern Hemisphere - Max Temp vs. Latitude Linear Regression"
   ]
  },
  {
   "cell_type": "code",
   "execution_count": 31,
   "metadata": {},
   "outputs": [
    {
     "name": "stdout",
     "output_type": "stream",
     "text": [
      "β0= 301.2144986701882\n",
      "β1= 0.4196096196318489\n",
      "r= 0.736208710643703\n",
      "interpretation: latitude goes up max temp goes up\n"
     ]
    },
    {
     "data": {
      "image/png": "[encoded data removed]",
      "text/plain": [
       "<Figure size 432x288 with 1 Axes>"
      ]
     },
     "metadata": {
      "needs_background": "light"
     },
     "output_type": "display_data"
    }
   ],
   "source": [
    "south_lat_reg = south[\"Latitude\"]\n",
    "south_temp_reg = south[\"Max Temp\"]\n",
    "\n",
    "(slope, intercept, rvalue, pvalue, stderr) = linregress(south_lat_reg,south_temp_reg)\n",
    "south_outputs = south_lat_reg * slope + intercept\n",
    "plt.scatter(south_lat_reg,south_temp_reg)\n",
    "\n",
    "plt.plot(south_lat_reg,south_outputs)\n",
    "\n",
    "plt.xlabel(\"Latitude\")\n",
    "plt.ylabel(\"Max Temp\")\n",
    "\n",
    "print(f\"β0= {intercept}\")\n",
    "print(f\"β1= {slope}\")\n",
    "print(f\"r= {rvalue}\")\n",
    "print(\"interpretation: latitude goes up max temp goes up\")\n",
    "\n",
    "plt.savefig(\"../Images/Southern_Hemisphere_Latitude_vs_MaxTemp\")"
   ]
  },
  {
   "cell_type": "markdown",
   "metadata": {},
   "source": [
    "####  Northern Hemisphere - Humidity (%) vs. Latitude Linear Regression"
   ]
  },
  {
   "cell_type": "code",
   "execution_count": 33,
   "metadata": {},
   "outputs": [
    {
     "name": "stdout",
     "output_type": "stream",
     "text": [
      "β0= 63.239178477798625\n",
      "β1= 0.07212772540987139\n",
      "r= 0.05766199756498826\n",
      "interpretation: not a strong correlation between latitude and humidity\n"
     ]
    },
    {
     "data": {
      "image/png": "[encoded data removed]",
      "text/plain": [
       "<Figure size 432x288 with 1 Axes>"
      ]
     },
     "metadata": {
      "needs_background": "light"
     },
     "output_type": "display_data"
    }
   ],
   "source": [
    "north_hum_reg = north[\"Humidity\"]\n",
    "\n",
    "(slope, intercept, rvalue, pvalue, stderr) = linregress(north_lat_reg,north_hum_reg)\n",
    "north_outputs = north_lat_reg * slope + intercept\n",
    "plt.scatter(north_lat_reg,north_hum_reg)\n",
    "\n",
    "plt.plot(north_lat_reg,north_outputs)\n",
    "\n",
    "plt.xlabel(\"Latitude\")\n",
    "plt.ylabel(\"Humidity\")\n",
    "\n",
    "print(f\"β0= {intercept}\")\n",
    "print(f\"β1= {slope}\")\n",
    "print(f\"r= {rvalue}\")\n",
    "print(\"interpretation: not a strong correlation between latitude and humidity\")\n",
    "\n",
    "plt.savefig(\"../Images/Northern_Hemisphere_Latitude_vs_Humidity\")"
   ]
  },
  {
   "cell_type": "markdown",
   "metadata": {},
   "source": [
    "####  Southern Hemisphere - Humidity (%) vs. Latitude Linear Regression"
   ]
  },
  {
   "cell_type": "code",
   "execution_count": 34,
   "metadata": {},
   "outputs": [
    {
     "name": "stdout",
     "output_type": "stream",
     "text": [
      "β0= 71.5057690582927\n",
      "β1= -0.046943243582568746\n",
      "r= -0.03404449988812813\n",
      "interpretation: not a strong correlation between latitude and humidity\n"
     ]
    },
    {
     "data": {
      "image/png": "[encoded data removed]",
      "text/plain": [
       "<Figure size 432x288 with 1 Axes>"
      ]
     },
     "metadata": {
      "needs_background": "light"
     },
     "output_type": "display_data"
    }
   ],
   "source": [
    "south_hum_reg = south[\"Humidity\"]\n",
    "\n",
    "(slope, intercept, rvalue, pvalue, stderr) = linregress(south_lat_reg,south_hum_reg)\n",
    "south_outputs = south_lat_reg * slope + intercept\n",
    "plt.scatter(south_lat_reg,south_hum_reg)\n",
    "\n",
    "plt.plot(south_lat_reg,south_outputs)\n",
    "\n",
    "plt.xlabel(\"Latitude\")\n",
    "plt.ylabel(\"Humidity\")\n",
    "\n",
    "print(f\"β0= {intercept}\")\n",
    "print(f\"β1= {slope}\")\n",
    "print(f\"r= {rvalue}\")\n",
    "print(\"interpretation: not a strong correlation between latitude and humidity\")\n",
    "\n",
    "plt.savefig(\"../Images/Southern_Hemisphere_Latitude_vs_Humidity\")"
   ]
  },
  {
   "cell_type": "markdown",
   "metadata": {},
   "source": [
    "####  Northern Hemisphere - Cloudiness (%) vs. Latitude Linear Regression"
   ]
  },
  {
   "cell_type": "code",
   "execution_count": 35,
   "metadata": {},
   "outputs": [
    {
     "name": "stdout",
     "output_type": "stream",
     "text": [
      "β0= 51.63972059025919\n",
      "β1= 0.22243269297924104\n",
      "r= 0.1094460847406656\n",
      "interpretation: not a strong correlation between latitude and humidity\n"
     ]
    },
    {
     "data": {
      "image/png": "[encoded data removed]",
      "text/plain": [
       "<Figure size 432x288 with 1 Axes>"
      ]
     },
     "metadata": {
      "needs_background": "light"
     },
     "output_type": "display_data"
    }
   ],
   "source": [
    "north_cloud_reg = north[\"Cloudiness\"]\n",
    "\n",
    "(slope, intercept, rvalue, pvalue, stderr) = linregress(north_lat_reg,north_cloud_reg)\n",
    "north_outputs = north_lat_reg * slope + intercept\n",
    "plt.scatter(north_lat_reg,north_cloud_reg)\n",
    "\n",
    "plt.plot(north_lat_reg,north_outputs)\n",
    "\n",
    "plt.xlabel(\"Latitude\")\n",
    "plt.ylabel(\"Cloudiness\")\n",
    "\n",
    "print(f\"β0= {intercept}\")\n",
    "print(f\"β1= {slope}\")\n",
    "print(f\"r= {rvalue}\")\n",
    "print(\"weak relationship between how far north and cloudiness\")\n",
    "\n",
    "plt.savefig(\"../Images/Northern_Hemisphere_Latitude_vs_Cloudiness\")"
   ]
  },
  {
   "cell_type": "markdown",
   "metadata": {},
   "source": [
    "####  Southern Hemisphere - Cloudiness (%) vs. Latitude Linear Regression"
   ]
  },
  {
   "cell_type": "code",
   "execution_count": 36,
   "metadata": {},
   "outputs": [
    {
     "name": "stdout",
     "output_type": "stream",
     "text": [
      "β0= 53.230353116505334\n",
      "β1= 0.562131193294993\n",
      "r= 0.18215907850086005\n",
      "weak relationship between how far north and cloudiness\n"
     ]
    },
    {
     "data": {
      "image/png": "[encoded data removed]",
      "text/plain": [
       "<Figure size 432x288 with 1 Axes>"
      ]
     },
     "metadata": {
      "needs_background": "light"
     },
     "output_type": "display_data"
    }
   ],
   "source": [
    "south_cloud_reg = south[\"Cloudiness\"]\n",
    "\n",
    "(slope, intercept, rvalue, pvalue, stderr) = linregress(south_lat_reg,south_cloud_reg)\n",
    "north_outputs = south_lat_reg * slope + intercept\n",
    "plt.scatter(south_lat_reg,south_cloud_reg)\n",
    "\n",
    "plt.plot(south_lat_reg,south_outputs)\n",
    "\n",
    "plt.xlabel(\"Latitude\")\n",
    "plt.ylabel(\"Cloudiness\")\n",
    "\n",
    "print(f\"β0= {intercept}\")\n",
    "print(f\"β1= {slope}\")\n",
    "print(f\"r= {rvalue}\")\n",
    "print(\"weak relationship between how far north and cloudiness in southern hemisphere\")\n",
    "\n",
    "plt.savefig(\"../Images/Southern_Hemisphere_Latitude_vs_Cloudiness\")"
   ]
  },
  {
   "cell_type": "markdown",
   "metadata": {},
   "source": [
    "####  Northern Hemisphere - Wind Speed (mph) vs. Latitude Linear Regression"
   ]
  },
  {
   "cell_type": "code",
   "execution_count": 39,
   "metadata": {},
   "outputs": [
    {
     "name": "stdout",
     "output_type": "stream",
     "text": [
      "β0= 2.793386062539054\n",
      "β1= 0.025348420512118507\n",
      "r= 0.22250922673241563\n",
      "weak negative relationship between how far north and cloudiness in southern hemisphere\n"
     ]
    },
    {
     "data": {
      "image/png": "[encoded data removed]",
      "text/plain": [
       "<Figure size 432x288 with 1 Axes>"
      ]
     },
     "metadata": {
      "needs_background": "light"
     },
     "output_type": "display_data"
    }
   ],
   "source": [
    "north_wind_reg = north[\"Wind Speed\"]\n",
    "\n",
    "(slope, intercept, rvalue, pvalue, stderr) = linregress(north_lat_reg,north_wind_reg)\n",
    "north_outputs = north_lat_reg * slope + intercept\n",
    "plt.scatter(north_lat_reg,north_wind_reg)\n",
    "\n",
    "plt.plot(north_lat_reg,north_outputs)\n",
    "\n",
    "plt.xlabel(\"Latitude\")\n",
    "plt.ylabel(\"Wind Speed\")\n",
    "\n",
    "print(f\"β0= {intercept}\")\n",
    "print(f\"β1= {slope}\")\n",
    "print(f\"r= {rvalue}\")\n",
    "print(\"weak positive relationship between how far north and wind speed in southern hemisphere\")\n",
    "\n",
    "plt.savefig(\"../Images/Northern_Hemisphere_Latitude_vs_WindSpeed\")"
   ]
  },
  {
   "cell_type": "markdown",
   "metadata": {},
   "source": [
    "####  Southern Hemisphere - Wind Speed (mph) vs. Latitude Linear Regression"
   ]
  },
  {
   "cell_type": "code",
   "execution_count": 38,
   "metadata": {},
   "outputs": [
    {
     "name": "stdout",
     "output_type": "stream",
     "text": [
      "β0= 2.536488537922949\n",
      "β1= -0.01705965510800325\n",
      "r= -0.10654153696594676\n",
      "weak negative relationship between how far north and cloudiness in southern hemisphere\n"
     ]
    },
    {
     "data": {
      "image/png": "[encoded data removed]",
      "text/plain": [
       "<Figure size 432x288 with 1 Axes>"
      ]
     },
     "metadata": {
      "needs_background": "light"
     },
     "output_type": "display_data"
    }
   ],
   "source": [
    "south_wind_reg = south[\"Wind Speed\"]\n",
    "\n",
    "(slope, intercept, rvalue, pvalue, stderr) = linregress(south_lat_reg,south_wind_reg)\n",
    "south_outputs = south_lat_reg * slope + intercept\n",
    "plt.scatter(south_lat_reg,south_wind_reg)\n",
    "\n",
    "plt.plot(south_lat_reg,south_outputs)\n",
    "\n",
    "plt.xlabel(\"Latitude\")\n",
    "plt.ylabel(\"Wind Speed\")\n",
    "\n",
    "print(f\"β0= {intercept}\")\n",
    "print(f\"β1= {slope}\")\n",
    "print(f\"r= {rvalue}\")\n",
    "print(\"weak negative relationship between how far north and wind speed in southern hemisphere\")\n",
    "\n",
    "plt.savefig(\"../Images/Southern_Hemisphere_Latitude_vs_WindSpeed\")"
   ]
  },
  {
   "cell_type": "code",
   "execution_count": null,
   "metadata": {},
   "outputs": [],
   "source": []
  }
 ],
 "metadata": {
  "anaconda-cloud": {},
  "kernel_info": {
   "name": "python3"
  },
  "kernelspec": {
   "display_name": "Python 3 (ipykernel)",
   "language": "python",
   "name": "python3"
  },
  "language_info": {
   "codemirror_mode": {
    "name": "ipython",
    "version": 3
   },
   "file_extension": ".py",
   "mimetype": "text/x-python",
   "name": "python",
   "nbconvert_exporter": "python",
   "pygments_lexer": "ipython3",
   "version": "3.8.12"
  },
  "latex_envs": {
   "LaTeX_envs_menu_present": true,
   "autoclose": false,
   "autocomplete": true,
   "bibliofile": "biblio.bib",
   "cite_by": "apalike",
   "current_citInitial": 1,
   "eqLabelWithNumbers": true,
   "eqNumInitial": 1,
   "hotkeys": {
    "equation": "Ctrl-E",
    "itemize": "Ctrl-I"
   },
   "labels_anchors": false,
   "latex_user_defs": false,
   "report_style_numbering": false,
   "user_envs_cfg": false
  },
  "nteract": {
   "version": "0.12.3"
  }
 },
 "nbformat": 4,
 "nbformat_minor": 2
}
